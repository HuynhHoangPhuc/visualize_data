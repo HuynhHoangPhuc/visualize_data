{
 "cells": [
  {
   "cell_type": "code",
   "execution_count": 1,
   "outputs": [],
   "source": [
    "import numpy as np\n",
    "import matplotlib.pyplot as plt\n",
    "import seaborn as sns\n",
    "import scipy.stats as stats\n",
    "import math"
   ],
   "metadata": {
    "collapsed": false,
    "ExecuteTime": {
     "end_time": "2023-11-02T15:51:34.398804Z",
     "start_time": "2023-11-02T15:51:34.174364Z"
    }
   },
   "id": "2cbc9f3b6e9eeed8"
  },
  {
   "cell_type": "markdown",
   "source": [
    "## Chương 1: Phép đếm"
   ],
   "metadata": {
    "collapsed": false
   },
   "id": "b4fb2d7202d8a92e"
  },
  {
   "cell_type": "markdown",
   "source": [
    "#### Bài tập 1.1\n",
    "Có bao nhiêu cách thiết kế cho một trang web là bao gồm bốn màu, ba\n",
    "phông chữ và ba vị trí cho một hình ảnh."
   ],
   "metadata": {
    "collapsed": false
   },
   "id": "d7c7ff85dc1eee8"
  },
  {
   "cell_type": "code",
   "execution_count": 2,
   "outputs": [
    {
     "data": {
      "text/plain": "36"
     },
     "execution_count": 2,
     "metadata": {},
     "output_type": "execute_result"
    }
   ],
   "source": [
    "4 * 3 * 3"
   ],
   "metadata": {
    "collapsed": false,
    "ExecuteTime": {
     "end_time": "2023-11-02T15:51:34.667710Z",
     "start_time": "2023-11-02T15:51:34.200219Z"
    }
   },
   "id": "32b5604e36ccf49e"
  },
  {
   "cell_type": "markdown",
   "source": [
    "#### Bài tập 1.2\n",
    "Quảng cáo trên web có thể được thiết kế từ bốn màu khác nhau, ba loại\n",
    "phông chữ, năm kích thước phông chữ, ba hình ảnh và năm cụm từ văn bản. Có thể\n",
    "thiết kế bao nhiêu mẫu khác nhau?"
   ],
   "metadata": {
    "collapsed": false
   },
   "id": "4080859e76660a96"
  },
  {
   "cell_type": "code",
   "execution_count": 3,
   "outputs": [
    {
     "data": {
      "text/plain": "900"
     },
     "execution_count": 3,
     "metadata": {},
     "output_type": "execute_result"
    }
   ],
   "source": [
    "4 * 3 * 5 * 3 * 5"
   ],
   "metadata": {
    "collapsed": false,
    "ExecuteTime": {
     "end_time": "2023-11-02T15:51:34.668711Z",
     "start_time": "2023-11-02T15:51:34.204893Z"
    }
   },
   "id": "ceb8bda7f825ad0b"
  },
  {
   "cell_type": "markdown",
   "source": [
    "#### Bài tập 1.3\n",
    "Một ổ khóa có ba vòng khóa, mỗi vòng có 10 chữ số: 0, 1, 2, 3, 4, 5, 6, 7,\n",
    "8, 9. Hỏi có tất cả bao nhiêu mã khóa?"
   ],
   "metadata": {
    "collapsed": false
   },
   "id": "bfc9cd48b0abbfc2"
  },
  {
   "cell_type": "code",
   "execution_count": 4,
   "outputs": [
    {
     "data": {
      "text/plain": "1000"
     },
     "execution_count": 4,
     "metadata": {},
     "output_type": "execute_result"
    }
   ],
   "source": [
    "10 * 10 * 10"
   ],
   "metadata": {
    "collapsed": false,
    "ExecuteTime": {
     "end_time": "2023-11-02T15:51:34.677228Z",
     "start_time": "2023-11-02T15:51:34.211258Z"
    }
   },
   "id": "5f9f80e9a8621e46"
  },
  {
   "cell_type": "markdown",
   "source": [
    "#### Bài tập 1.4\n",
    "Một thiết kế cho một máy tính có thể chỉ định bất kỳ một trong năm kích\n",
    "thước bộ nhớ, một trong ba loại màn hình, một trong bốn kích cỡ của một đĩa cứng và\n",
    "có thể bao gồm hoặc không bao gồm một cây bút điện tử. Có bao nhiêu hệ thống máy\n",
    "tính khác nhau có thể được thiết kế?"
   ],
   "metadata": {
    "collapsed": false
   },
   "id": "1946b154cb69dcdc"
  },
  {
   "cell_type": "code",
   "execution_count": 5,
   "outputs": [
    {
     "data": {
      "text/plain": "120"
     },
     "execution_count": 5,
     "metadata": {},
     "output_type": "execute_result"
    }
   ],
   "source": [
    "5 * 3 * 4 * 2"
   ],
   "metadata": {
    "collapsed": false,
    "ExecuteTime": {
     "end_time": "2023-11-02T15:51:34.679776Z",
     "start_time": "2023-11-02T15:51:34.216767Z"
    }
   },
   "id": "bd3baafb347a584f"
  },
  {
   "cell_type": "markdown",
   "source": [
    "#### Bài tập 1.5\n",
    "Thiết kế mới cho một bể xử lý nước thải đã được đề xuất với ba hình dạng\n",
    "có thể, bốn kích thước có thể, ba vị trí cho van đầu vào và bốn vị trí cho van đầu ra.\n",
    "Có thể thiết kế bao nhiêu sản phẩm khác nhau?"
   ],
   "metadata": {
    "collapsed": false
   },
   "id": "bee8f16afe5849c3"
  },
  {
   "cell_type": "code",
   "execution_count": 6,
   "outputs": [
    {
     "data": {
      "text/plain": "144"
     },
     "execution_count": 6,
     "metadata": {},
     "output_type": "execute_result"
    }
   ],
   "source": [
    "3 * 4 * 3 * 4"
   ],
   "metadata": {
    "collapsed": false,
    "ExecuteTime": {
     "end_time": "2023-11-02T15:51:34.682242Z",
     "start_time": "2023-11-02T15:51:34.222168Z"
    }
   },
   "id": "2c0b3a083d240dde"
  },
  {
   "cell_type": "markdown",
   "source": [
    "#### Bài tập 1.6\n",
    "Trong một lớp gồm 30 sinh viên, cần chọn ra 3 sinh viên để làm lớp trưởng,\n",
    "lớp phó và thủ quỹ. Hỏi có bao nhiêu cách bầu chọn?"
   ],
   "metadata": {
    "collapsed": false
   },
   "id": "3218dff39563d4a8"
  },
  {
   "cell_type": "code",
   "execution_count": 7,
   "outputs": [
    {
     "data": {
      "text/plain": "4060"
     },
     "execution_count": 7,
     "metadata": {},
     "output_type": "execute_result"
    }
   ],
   "source": [
    "math.comb(30, 3)"
   ],
   "metadata": {
    "collapsed": false,
    "ExecuteTime": {
     "end_time": "2023-11-02T15:51:34.684612Z",
     "start_time": "2023-11-02T15:51:34.227385Z"
    }
   },
   "id": "2297b5356ea8d07f"
  },
  {
   "cell_type": "markdown",
   "source": [
    "#### Bài tập 1.7 \n",
    "Một hộp đựng 6 bi trắng và 4 bi đen.\n",
    "a. Có tất cả bao nhiêu cách lấy ra 5 bi?\n",
    "b. Có bao nhiêu cách lấy ra 5 bi trong đó có 2 bi trắng?"
   ],
   "metadata": {
    "collapsed": false
   },
   "id": "b322311b8c166840"
  },
  {
   "cell_type": "code",
   "execution_count": 8,
   "outputs": [
    {
     "name": "stdout",
     "output_type": "stream",
     "text": [
      "a. 252\n",
      "b. 19\n"
     ]
    }
   ],
   "source": [
    "print(f'a. {math.comb(6 + 4, 5)}')\n",
    "print(f'b. {math.comb(6, 2) + math.comb(4, 3)}')"
   ],
   "metadata": {
    "collapsed": false,
    "ExecuteTime": {
     "end_time": "2023-11-02T15:51:34.686907Z",
     "start_time": "2023-11-02T15:51:34.232156Z"
    }
   },
   "id": "4a10c97d32c6335b"
  },
  {
   "cell_type": "markdown",
   "source": [
    "#### Bài tập 1.8\n",
    "Một lô 140 chip bán dẫn được kiểm tra bằng cách chọn một mẫu 5 chip.\n",
    "Giả sử 10 trong số các chip này không phù hợp với yêu cầu của khách hàng.\n",
    "a. Có bao nhiêu cách chọn mẫu khác nhau?\n",
    "b. Có bao nhiêu mẫu trong số năm mẫu chứa chính xác một chip không phù hợp?\n",
    "c. Có bao nhiêu mẫu trong số năm mẫu chứa ít nhất một chip không phù hợp?"
   ],
   "metadata": {
    "collapsed": false
   },
   "id": "15fb460f5ea0b52b"
  },
  {
   "cell_type": "code",
   "execution_count": 9,
   "outputs": [
    {
     "name": "stdout",
     "output_type": "stream",
     "text": [
      "a. 416965528\n",
      "b. 11358890\n",
      "c. 130721752\n"
     ]
    }
   ],
   "source": [
    "print(f'a. {math.comb(140, 5)}')\n",
    "print(f'b. {10 + math.comb(130, 4)}')\n",
    "print(f'c. {math.comb(140, 5) - math.comb(130, 5)}')"
   ],
   "metadata": {
    "collapsed": false,
    "ExecuteTime": {
     "end_time": "2023-11-02T15:51:34.692603Z",
     "start_time": "2023-11-02T15:51:34.237003Z"
    }
   },
   "id": "b8f39be99ebef5c3"
  },
  {
   "cell_type": "markdown",
   "source": [
    "#### Bài tập 1.9\n",
    "Xem xét việc thiết kế của một hệ thống truyền thông.\n",
    "a. Có bao nhiêu số điện thoại mà ba chữ số đầu tiên được sử dụng để đại diện cho\n",
    "một khu vực địa lý cụ thể (chẳng hạn như mã vùng) có thể được tạo từ các chữ\n",
    "số từ 0 đến 9?\n",
    "b. Như một phần (a), có bao nhiêu số điện thoại mà ba chữ số đầu có thể không bắt\n",
    "đầu bằng 0 hoặc 1, nhưng chứa 0 hoặc 1 làm chữ số giữa?\n",
    "c. Có thể có bao nhiêu số điện thoại mà có ba chữ số đầu trong đó không có chữ số\n",
    "nào xuất hiện nhiều hơn một lần trong đó?"
   ],
   "metadata": {
    "collapsed": false
   },
   "id": "26b9f7ed6eaa70ef"
  },
  {
   "cell_type": "code",
   "execution_count": 10,
   "outputs": [
    {
     "name": "stdout",
     "output_type": "stream",
     "text": [
      "a. 1000\n",
      "b. 160\n",
      "c. 720\n"
     ]
    }
   ],
   "source": [
    "print(f'a. {10 * 10 * 10}')\n",
    "print(f'b. {8 * 2 * 10}')\n",
    "print(f'c. {math.perm(10, 3)}')"
   ],
   "metadata": {
    "collapsed": false,
    "ExecuteTime": {
     "end_time": "2023-11-02T15:51:34.695056Z",
     "start_time": "2023-11-02T15:51:34.241195Z"
    }
   },
   "id": "407ac8738ecb0511"
  },
  {
   "cell_type": "markdown",
   "source": [
    "#### Bài tập 1.10\n",
    "Một thùng chứa 50 phần trong đó 5 phần bị lỗi. Một mẫu 10 phần được\n",
    "chọn ngẫu nhiên, không hoàn lại. Có bao nhiêu mẫu chứa ít nhất bốn bộ phận bị lỗi?"
   ],
   "metadata": {
    "collapsed": false
   },
   "id": "6029553202627a5f"
  },
  {
   "cell_type": "code",
   "execution_count": 11,
   "outputs": [
    {
     "data": {
      "text/plain": "41947059"
     },
     "execution_count": 11,
     "metadata": {},
     "output_type": "execute_result"
    }
   ],
   "source": [
    "math.comb(50, 10) - math.comb(45, 10) - 5 * math.comb(45, 9) - math.comb(5, 2) * math.comb(45, 8) - math.comb(5,\n",
    "                                                                                                              3) * math.comb(\n",
    "    45, 7)"
   ],
   "metadata": {
    "collapsed": false,
    "ExecuteTime": {
     "end_time": "2023-11-02T15:51:34.697384Z",
     "start_time": "2023-11-02T15:51:34.245944Z"
    }
   },
   "id": "de8ad2370c77bf3a"
  },
  {
   "cell_type": "markdown",
   "source": [
    "#### Bài tập 1.11\n",
    "Trong một nhóm ứng viên gồm 7 nam và 3 nữ.\n",
    "a. Có bao nhiêu cách thành lập một ủy ban bao gồm 3 người?\n",
    "b. Có bao nhiêu cách thành lập một ủy ban bao gồm 3 người trong đó có đúng 1 nữ?\n",
    "c. Có bao nhiêu cách thành lập một ủy ban bao gồm 3 người trong đó có ít nhất 1\n",
    "nữ?"
   ],
   "metadata": {
    "collapsed": false
   },
   "id": "86b088a4fd0c5b26"
  },
  {
   "cell_type": "code",
   "execution_count": 12,
   "outputs": [
    {
     "name": "stdout",
     "output_type": "stream",
     "text": [
      "a. 120\n",
      "b. 105\n",
      "c. 85\n"
     ]
    }
   ],
   "source": [
    "print(f'a. {math.comb(10, 3)}')\n",
    "print(f'b. {3 * math.comb(7, 3)}')\n",
    "print(f'c. {math.comb(10, 3) - math.comb(7, 3)}')"
   ],
   "metadata": {
    "collapsed": false,
    "ExecuteTime": {
     "end_time": "2023-11-02T15:51:34.699656Z",
     "start_time": "2023-11-02T15:51:34.249593Z"
    }
   },
   "id": "287b0c31d2a076c9"
  },
  {
   "cell_type": "markdown",
   "source": [
    "#### Bài tập 1.12\n",
    "Một hộp có 8 bi đỏ, 6 bi trắng, 4 bi vàng. Người ta chọn ra 6 bi từ hộp\n",
    "đó. Hỏi có bao nhiêu cách chọn nếu:\n",
    "a. Không yêu cầu gì thêm.\n",
    "b. Phải có 2 bi đỏ, 2 bi trắng, 2 bi vàng.\n",
    "c. Có đúng 2 bi vàng."
   ],
   "metadata": {
    "collapsed": false
   },
   "id": "688fe64db5a84edb"
  },
  {
   "cell_type": "code",
   "execution_count": 13,
   "outputs": [
    {
     "name": "stdout",
     "output_type": "stream",
     "text": [
      "a. 18564\n",
      "b. 2520\n",
      "c. 6006\n"
     ]
    }
   ],
   "source": [
    "print(f'a. {math.comb(18, 6)}')\n",
    "print(f'b. {math.comb(8, 2) * math.comb(6, 2) * math.comb(4, 2)}')\n",
    "print(f'c. {math.comb(4, 2) * math.comb(14, 4)}')"
   ],
   "metadata": {
    "collapsed": false,
    "ExecuteTime": {
     "end_time": "2023-11-02T15:51:34.701896Z",
     "start_time": "2023-11-02T15:51:34.254016Z"
    }
   },
   "id": "500f2bc1d6f38cb2"
  },
  {
   "cell_type": "markdown",
   "source": [
    "#### Bài tập 1.13\n",
    "a. Có bao nhiêu cách xếp 3 nam và 3 nữ ngồi thành một hàng?\n",
    "b. Có bao nhiêu cách xếp 3 nam và 3 nữ ngồi thành một hàng nếu mỗi nam và mỗi\n",
    "nữ ngồi cạnh nhau?\n",
    "c. Có bao nhiêu cách xếp nếu 3 nam phải ngồi cạnh nhau?\n",
    "d. Có bao nhiêu cách xếp nếu không có hai nam hoặc hai nữ nào được ngồi cạnh nhau?"
   ],
   "metadata": {
    "collapsed": false
   },
   "id": "51fb3bbae4c6bec5"
  },
  {
   "cell_type": "code",
   "execution_count": 14,
   "outputs": [
    {
     "name": "stdout",
     "output_type": "stream",
     "text": [
      "a. 720\n",
      "b. 72\n",
      "c. 144\n",
      "d. 144\n"
     ]
    }
   ],
   "source": [
    "print(f'a. {math.perm(6)}')\n",
    "print(f'b. {math.perm(3) * math.perm(3) * 2}')\n",
    "print(f'c. {math.perm(3) * math.perm(4)}')\n",
    "print(f'd. {math.perm(3) * math.perm(4, 3)}')"
   ],
   "metadata": {
    "collapsed": false,
    "ExecuteTime": {
     "end_time": "2023-11-02T15:51:34.708308Z",
     "start_time": "2023-11-02T15:51:34.258423Z"
    }
   },
   "id": "1a8a4ba2bea061a"
  },
  {
   "cell_type": "markdown",
   "source": [
    "#### Bài tập 1.14\n",
    "Một đồn cảnh sát khu vực có 9 người. Trong ngày cần cử 3 người làm\n",
    "nhiệm vụ ở địa điểm A, 2 người ở địa điểm B còn 4 người trực tại đồn. Hỏi có bao\n",
    "nhiêu cách phân công?"
   ],
   "metadata": {
    "collapsed": false
   },
   "id": "81494b56f1e93e36"
  },
  {
   "cell_type": "code",
   "execution_count": 15,
   "outputs": [
    {
     "data": {
      "text/plain": "1260"
     },
     "execution_count": 15,
     "metadata": {},
     "output_type": "execute_result"
    }
   ],
   "source": [
    "math.comb(9, 3) * math.comb(6, 2)"
   ],
   "metadata": {
    "collapsed": false,
    "ExecuteTime": {
     "end_time": "2023-11-02T15:51:34.710794Z",
     "start_time": "2023-11-02T15:51:34.262756Z"
    }
   },
   "id": "488a0bf080caa1a3"
  },
  {
   "cell_type": "markdown",
   "source": [
    "#### Bài tập 1.15\n",
    "Có 6 học sinh được sắp xếp ngồi vào 6 chỗ đã ghi số thứ tự trên một bàn\n",
    "dài. Tìm số cách xếp\n",
    "a. 6 học sinh vào bàn.\n",
    "b. 6 học sinh này vào bàn sao cho 2 học sinh A, B ngồi cạnh nhau.\n",
    "c. 6 học sinh này ngồi vào bàn sao cho 2 học sinh A, B không ngồi cạnh nhau."
   ],
   "metadata": {
    "collapsed": false
   },
   "id": "cf2c599a94e332c1"
  },
  {
   "cell_type": "code",
   "execution_count": 16,
   "outputs": [
    {
     "name": "stdout",
     "output_type": "stream",
     "text": [
      "a. 720\n",
      "b. 240\n",
      "c. 48\n"
     ]
    }
   ],
   "source": [
    "print(f'a. {math.perm(6)}')\n",
    "print(f'b. {2 * math.perm(5)}')\n",
    "print(f'c. {2 * math.perm(4)}')"
   ],
   "metadata": {
    "collapsed": false,
    "ExecuteTime": {
     "end_time": "2023-11-02T15:51:34.713952Z",
     "start_time": "2023-11-02T15:51:34.266742Z"
    }
   },
   "id": "4be4458543dba6a3"
  },
  {
   "cell_type": "markdown",
   "source": [
    "## Chương 2: Xác suất cơ bản"
   ],
   "metadata": {
    "collapsed": false
   },
   "id": "e0737f985513df72"
  },
  {
   "cell_type": "markdown",
   "source": [
    "#### Bài tập 2.1\n",
    "Hãy chỉ rõ không gian mẫu trong mỗi thí nghiệm ngẫu nhiên sau:\n",
    "a. Thả một đồng xu.\n",
    "b. Để một cây bút chì rơi tự do vào một tờ giấy có ghi những chữ số một cách ngẫu\n",
    "nhiên, sau đó ghi lại số có dấu chấm của đầu bút chì.\n",
    "c. Thảy một đồng xu 4 lần rồi ghi lại chuỗi kết quả. Hãy liệt kê không gian mẫu.\n",
    "Hơn nữa, nếu ta chỉ quan tâm tới số lượng mặt ngửa trong chuỗi kết quả. Cho\n",
    "biết không gian mẫu lúc này.\n",
    "d. Bạn là nhà thiết kế trang web và bạn thiết lập một trang với 5 liên kết khác nhau.\n",
    "Người dùng có thể nhấp vào một trong các liên kết hoặc họ có thể rời khỏi trang\n",
    "đó. Mô tả không gian cho kết quả của khách truy cập vào trang Web của bạn."
   ],
   "metadata": {
    "collapsed": false
   },
   "id": "991f17ef8eef240f"
  },
  {
   "cell_type": "code",
   "execution_count": 17,
   "outputs": [
    {
     "name": "stdout",
     "output_type": "stream",
     "text": [
      "a. Ω={H, T}\n",
      "b. Ω={0,1,2,3,4,5,6,7,8,9}\n",
      "c. Ω={0, 1, 2, 3, 4}\n",
      "d. Ω={0, 1}\n"
     ]
    }
   ],
   "source": [
    "print('a. Ω={H, T}')\n",
    "print('b. Ω={0,1,2,3,4,5,6,7,8,9}')\n",
    "print('c. Ω={0, 1, 2, 3, 4}')\n",
    "print('d. Ω={0, 1}')"
   ],
   "metadata": {
    "collapsed": false,
    "ExecuteTime": {
     "end_time": "2023-11-02T15:51:34.716801Z",
     "start_time": "2023-11-02T15:51:34.274302Z"
    }
   },
   "id": "ec7cbfd5295b6f9c"
  },
  {
   "cell_type": "markdown",
   "source": [
    "#### Bài tập 2.2\n",
    "Sử dụng dữ liệu từ Bài 2.1 câu 3, hãy mô tả biến cố A là chuỗi kết quả có\n",
    "chính xác 2 mặt ngửa xuất hiện."
   ],
   "metadata": {
    "collapsed": false
   },
   "id": "5f64c95cc1dfef48"
  },
  {
   "cell_type": "code",
   "execution_count": 18,
   "outputs": [
    {
     "name": "stdout",
     "output_type": "stream",
     "text": [
      "('H', 'H', 'T', 'T')\n",
      "('H', 'H', 'T', 'T')\n",
      "('H', 'T', 'H', 'T')\n",
      "('H', 'T', 'T', 'H')\n",
      "('H', 'T', 'H', 'T')\n",
      "('H', 'T', 'T', 'H')\n",
      "('H', 'H', 'T', 'T')\n",
      "('H', 'H', 'T', 'T')\n",
      "('H', 'T', 'H', 'T')\n",
      "('H', 'T', 'T', 'H')\n",
      "('H', 'T', 'H', 'T')\n",
      "('H', 'T', 'T', 'H')\n",
      "('T', 'H', 'H', 'T')\n",
      "('T', 'H', 'T', 'H')\n",
      "('T', 'H', 'H', 'T')\n",
      "('T', 'H', 'T', 'H')\n",
      "('T', 'T', 'H', 'H')\n",
      "('T', 'T', 'H', 'H')\n",
      "('T', 'H', 'H', 'T')\n",
      "('T', 'H', 'T', 'H')\n",
      "('T', 'H', 'H', 'T')\n",
      "('T', 'H', 'T', 'H')\n",
      "('T', 'T', 'H', 'H')\n",
      "('T', 'T', 'H', 'H')\n"
     ]
    }
   ],
   "source": [
    "import itertools\n",
    "\n",
    "A = ['H', 'H', 'T', 'T']\n",
    "for permutation in itertools.permutations(A):\n",
    "    print(permutation)"
   ],
   "metadata": {
    "collapsed": false,
    "ExecuteTime": {
     "end_time": "2023-11-02T15:51:34.724748Z",
     "start_time": "2023-11-02T15:51:34.278557Z"
    }
   },
   "id": "5dcd9382b5a0c593"
  },
  {
   "cell_type": "markdown",
   "source": [
    "#### Bài tập 2.3\n",
    "Nếu ta tung 1 đồng súc sắc cân bằng thì xác suất để được mặt chẵn hoặc\n",
    "lớn hơn 4 chấm là bao nhiêu?"
   ],
   "metadata": {
    "collapsed": false
   },
   "id": "58ee725bb03cd5a6"
  },
  {
   "cell_type": "code",
   "execution_count": 19,
   "outputs": [
    {
     "data": {
      "text/plain": "0.8333333333333334"
     },
     "execution_count": 19,
     "metadata": {},
     "output_type": "execute_result"
    }
   ],
   "source": [
    "(3 + 2) / 6"
   ],
   "metadata": {
    "collapsed": false,
    "ExecuteTime": {
     "end_time": "2023-11-02T15:51:34.727168Z",
     "start_time": "2023-11-02T15:51:34.282773Z"
    }
   },
   "id": "5350701a4eb42115"
  },
  {
   "cell_type": "markdown",
   "source": [
    "#### Bài tập 2.4\n",
    "Chọn ngẫu nhiên một số tự nhiên nhỏ hơn 10.\n",
    "a. Hãy mô tả không gian mẫu của phép thử ngẫu nhiên trên.\n",
    "b. Tính xác suất số được chọn là số không bé hơn 5.\n",
    "c. Tính xác suất số được chọn là số 3."
   ],
   "metadata": {
    "collapsed": false
   },
   "id": "d633d2bcaf2b210f"
  },
  {
   "cell_type": "code",
   "execution_count": 20,
   "outputs": [
    {
     "name": "stdout",
     "output_type": "stream",
     "text": [
      "a. Ω = {1, 2, 3, 4, 5, 6, 7, 8, 9, 10}\n",
      "b. 0.5\n",
      "c. 0.1\n"
     ]
    }
   ],
   "source": [
    "print('a. Ω = {', ', '.join(map(str, list(range(1, 11)))), '}', sep='')\n",
    "print(f'b. {5 / 10}')\n",
    "print(f'c. {1 / 10}')"
   ],
   "metadata": {
    "collapsed": false,
    "ExecuteTime": {
     "end_time": "2023-11-02T15:51:34.729918Z",
     "start_time": "2023-11-02T15:51:34.286932Z"
    }
   },
   "id": "45b9de11be5e0f48"
  },
  {
   "cell_type": "markdown",
   "source": [
    "#### Bài tập 2.14\n",
    "Tỷ lệ người mắc bệnh tim trong một vùng dân cư là 9%, mắc bệnh huyết\n",
    "áp là 12% và mắc cả hai bệnh là 7%. Chọn ngẫu nhiên một người trong vùng. Tính\n",
    "xác suất để người đó\n",
    "a. Bị bệnh tim hay bị bệnh huyết áp.\n",
    "b. Không bị bệnh tim cũng không bị bệnh huyết áp.\n",
    "c. Không bị bệnh tim hay không bị bệnh huyết áp.\n",
    "d. Bị bệnh tim nhưng không bị bệnh huyết áp.\n",
    "e. Không bị bệnh tim nhưng bị bệnh huyết áp."
   ],
   "metadata": {
    "collapsed": false
   },
   "id": "e3f9fad36c30b310"
  },
  {
   "cell_type": "code",
   "execution_count": 21,
   "outputs": [
    {
     "name": "stdout",
     "output_type": "stream",
     "text": [
      "a. 0.2264685314685315\n",
      "b. 0.7735314685314685\n",
      "c. 1.79\n",
      "d. 0.9700000000000001\n",
      "e. 1.03\n"
     ]
    }
   ],
   "source": [
    "print(f'a. {0.07 + (0.07 / (1 - 0.12)) + (0.07 / (1 - 0.09))}')\n",
    "print(f'b. {1 - (0.07 + (0.07 / (1 - 0.12)) + (0.07 / (1 - 0.09)))}')\n",
    "print(f'c. {2 - 0.09 - 0.12}')\n",
    "print(f'd. {0.09 + 1 - 0.12}')\n",
    "print(f'e. {1 - 0.09 + 0.12}')"
   ],
   "metadata": {
    "collapsed": false,
    "ExecuteTime": {
     "end_time": "2023-11-02T15:51:34.732560Z",
     "start_time": "2023-11-02T15:51:34.291092Z"
    }
   },
   "id": "a862baf41aab3fd0"
  },
  {
   "cell_type": "markdown",
   "source": [
    "## Chương 3: Biến ngẫu nhiên rời rạc"
   ],
   "metadata": {
    "collapsed": false
   },
   "id": "1e6b0471357f098e"
  },
  {
   "cell_type": "markdown",
   "source": [
    "#### Bài tập 3.2\n",
    "Trò chơi đánh bài Texas bắt đầu với việc mỗi người chơi nhận được 2 là\n",
    "bài trên tay. Sau đây là bảng phân phối số lượng con bài át trong hai lá bài đó\n",
    "\n",
    "| Số lượng át | 0     | 1     | 2     |\n",
    "|-------------|-------|-------|-------|\n",
    "| Xác suất    | 0.559 | 0.382 | 0.059 |\n",
    "\n",
    "a. Hãy kiểm tra xem mô hình trên có phải là một biến ngẫu nhiên rời rạc?\n",
    "b. Vẽ biểu đồ histogram cho phân phối trên.\n",
    "c. Xác suất mà trong hai lá chứa ít nhất một át? Tính toán bằng hai cách khác\n",
    "nhau."
   ],
   "metadata": {
    "collapsed": false
   },
   "id": "548915b20406ffe8"
  },
  {
   "cell_type": "code",
   "execution_count": 22,
   "outputs": [
    {
     "data": {
      "text/plain": "<Figure size 640x480 with 1 Axes>",
      "image/png": "[encoded data removed]"
     },
     "metadata": {},
     "output_type": "display_data"
    }
   ],
   "source": [
    "data = stats.rv_discrete(a=0, b=2, values=([0, 1, 2], [0.559, 0.382, 0.059])).rvs(size=10000)\n",
    "sns.histplot(data, bins=3)\n",
    "plt.show()"
   ],
   "metadata": {
    "collapsed": false,
    "ExecuteTime": {
     "end_time": "2023-11-02T15:51:34.796961Z",
     "start_time": "2023-11-02T15:51:34.299735Z"
    }
   },
   "id": "66a1d11aaaa33c2"
  },
  {
   "cell_type": "markdown",
   "source": [
    "#### Bài tập 3.3\n",
    "Phần mềm kiểm tra chính tả bắt lỗi “lỗi không phải từ”, là lỗi tạo thành\n",
    "bởi một chuỗi các chữ cái sắp xếp không tạo thành một từ, ví dụ chữ “the” được nhập\n",
    "là “teh”. Khi sinh viên đại học được yêu cầu viết một bài luận 250 từ (không được kiểm\n",
    "tra lại lỗi chính tả), và X số lượng từ bị lỗi có phân phối sau:\n",
    "\n",
    "|Giá trị của X|0| 1| 2| 3| 4|\n",
    "|---|---|---|---|---|\n",
    "|Xác suất |0.1| 0.3| 0.3| 0.2| 0.1|\n",
    "\n",
    "a. Vẽ phân phối xác suất của biến ngẫu nhiên X.\n",
    "b. Viết biến cố “có ít nhất 1 lỗi” theo biến ngẫu nhiên X. Xác suất của biến cố này\n",
    "là bao nhiêu?\n",
    "c. Phát biểu thành lời biến cố X ≤ 2. Tính xác suất biến cố đó và xác suất của biến\n",
    "cố X < 2."
   ],
   "metadata": {
    "collapsed": false
   },
   "id": "6a4ff11d6f65dbd"
  },
  {
   "cell_type": "code",
   "execution_count": 23,
   "outputs": [
    {
     "data": {
      "text/plain": "<Figure size 640x480 with 1 Axes>",
      "image/png": "[encoded data removed]"
     },
     "metadata": {},
     "output_type": "display_data"
    }
   ],
   "source": [
    "data = stats.rv_discrete(a=0, b=4, values=([0, 1, 2, 3, 4], [0.1, 0.3, 0.3, 0.2, 0.1])).rvs(size=10000)\n",
    "sns.histplot(data, bins=5)\n",
    "plt.show()"
   ],
   "metadata": {
    "collapsed": false,
    "ExecuteTime": {
     "end_time": "2023-11-02T15:51:34.797342Z",
     "start_time": "2023-11-02T15:51:34.469089Z"
    }
   },
   "id": "15415fe80a3e858e"
  },
  {
   "cell_type": "markdown",
   "source": [
    "#### Bài tập 3.18\n",
    "Biến ngẫu nhiên X có phân phối nhị thức với n = 10 và p = 0.5. Xác\n",
    "định xác suất:\n",
    "a. P(X = 5)\n",
    "b. P(X ≤ 2)\n",
    "c. P(X ≥ 9)\n",
    "d. P(3 ≤ X < 5)"
   ],
   "metadata": {
    "collapsed": false
   },
   "id": "c4467c295eb40e65"
  },
  {
   "cell_type": "code",
   "execution_count": 24,
   "outputs": [
    {
     "name": "stdout",
     "output_type": "stream",
     "text": [
      "a. 0.2460937500000002\n",
      "b. 0.0546875\n",
      "c. 0.0009765625\n",
      "d. 0.451171875\n"
     ]
    }
   ],
   "source": [
    "n, p = 10, 0.5\n",
    "print(f'a. {stats.binom.pmf(5, n, p)}')\n",
    "print(f'b. {stats.binom.cdf(2, n, p)}')\n",
    "print(f'c. {1 - stats.binom.cdf(9, n, p)}')\n",
    "print(f'd. {stats.binom.cdf(5, n, p) - stats.binom.cdf(3, n, p)}')"
   ],
   "metadata": {
    "collapsed": false,
    "ExecuteTime": {
     "end_time": "2023-11-02T15:51:34.797477Z",
     "start_time": "2023-11-02T15:51:34.622545Z"
    }
   },
   "id": "f0de4eeb375ccdf2"
  },
  {
   "cell_type": "markdown",
   "source": [
    "#### Bài tập 3.19\n",
    "Biến ngẫu nhiên X có phân phối nhị thức với n = 10 và p = 0.01. Xác\n",
    "định xác suất:\n",
    "a. P(X = 5) \n",
    "b. P(X ≤ 2) \n",
    "c. P(X ≥ 9) \n",
    "d. P(3 ≤ X < 5)\n",
    "e. Hãy vẽ hàm phân phối tích lũy của mô hình trên."
   ],
   "metadata": {
    "collapsed": false
   },
   "id": "6baa5f86fb120dca"
  },
  {
   "cell_type": "code",
   "execution_count": 25,
   "outputs": [
    {
     "name": "stdout",
     "output_type": "stream",
     "text": [
      "a. 2.3964949257480013e-08\n",
      "b. 0.9998861508820942\n",
      "c. 0.0\n",
      "d. 2.0010732629804906e-06\n"
     ]
    },
    {
     "data": {
      "text/plain": "<Figure size 640x480 with 1 Axes>",
      "image/png": "[encoded data removed]"
     },
     "metadata": {},
     "output_type": "display_data"
    }
   ],
   "source": [
    "n, p = 10, 0.01\n",
    "print(f'a. {stats.binom.pmf(5, n, p)}')\n",
    "print(f'b. {stats.binom.cdf(2, n, p)}')\n",
    "print(f'c. {1 - stats.binom.cdf(9, n, p)}')\n",
    "print(f'd. {stats.binom.cdf(5, n, p) - stats.binom.cdf(3, n, p)}')\n",
    "\n",
    "data = stats.binom.rvs(n=n, p=p, size=10000)\n",
    "sns.histplot(data)\n",
    "plt.show()"
   ],
   "metadata": {
    "collapsed": false,
    "ExecuteTime": {
     "end_time": "2023-11-02T15:51:35.319856Z",
     "start_time": "2023-11-02T15:51:34.627279Z"
    }
   },
   "id": "bb366c9168fd1904"
  },
  {
   "cell_type": "markdown",
   "source": [
    "#### Bài tập 3.20\n",
    "Một phân xưởng có 5 máy. Xác suất để trong một ca, mỗi máy bị hỏng\n",
    "là 0.1. Tìm xác suất để trong một ca, có đúng 2 máy bị hỏng."
   ],
   "metadata": {
    "collapsed": false
   },
   "id": "3afe29c3c1446cc9"
  },
  {
   "cell_type": "code",
   "execution_count": 26,
   "outputs": [
    {
     "data": {
      "text/plain": "0.07289999999999995"
     },
     "execution_count": 26,
     "metadata": {},
     "output_type": "execute_result"
    }
   ],
   "source": [
    "n, p = 5, 0.1\n",
    "stats.binom.pmf(2, n, p)"
   ],
   "metadata": {
    "collapsed": false,
    "ExecuteTime": {
     "end_time": "2023-11-02T15:51:35.320114Z",
     "start_time": "2023-11-02T15:51:34.703442Z"
    }
   },
   "id": "8e7f5d0ab6004cc6"
  },
  {
   "cell_type": "markdown",
   "source": [
    "#### Bài tập 3.21\n",
    "Tính xác suất để gieo con xúc xắc 10 lần, mặt một nút xuất hiện không\n",
    "quá 3 lần."
   ],
   "metadata": {
    "collapsed": false
   },
   "id": "d3d2b48d26f98987"
  },
  {
   "cell_type": "code",
   "execution_count": 27,
   "outputs": [
    {
     "data": {
      "text/plain": "0.9302721574455114"
     },
     "execution_count": 27,
     "metadata": {},
     "output_type": "execute_result"
    }
   ],
   "source": [
    "n, p = 10, 1/6\n",
    "stats.binom.cdf(3, n, p)"
   ],
   "metadata": {
    "collapsed": false,
    "ExecuteTime": {
     "end_time": "2023-11-02T15:51:35.326723Z",
     "start_time": "2023-11-02T15:51:34.708070Z"
    }
   },
   "id": "f56c34d70340b07b"
  },
  {
   "cell_type": "markdown",
   "source": [
    "#### Bài tập 3.22\n",
    "Giả sử tỷ lệ sinh con trai và con gái là bằng nhau và bằng 1/2. Một gia\n",
    "đình có 4 người con. Tính xác suất để 4 đứa con đó gồm\n",
    "a. 2 trai và 2 gái \n",
    "b. 1 trai và 3 gái \n",
    "c. 4 trai"
   ],
   "metadata": {
    "collapsed": false
   },
   "id": "ab6a09a93f2f3feb"
  },
  {
   "cell_type": "code",
   "execution_count": 28,
   "outputs": [
    {
     "name": "stdout",
     "output_type": "stream",
     "text": [
      "a. 0.37500000000000017\n",
      "b. 0.24999999999999994\n",
      "c. 0.0625\n"
     ]
    }
   ],
   "source": [
    "n, p = 4, 1/2\n",
    "print(f'a. {stats.binom.pmf(2, n, p)}')\n",
    "print(f'b. {stats.binom.pmf(1, n, p)}')\n",
    "print(f'c. {stats.binom.pmf(4, n, p)}')"
   ],
   "metadata": {
    "collapsed": false,
    "ExecuteTime": {
     "end_time": "2023-11-02T15:51:35.329094Z",
     "start_time": "2023-11-02T15:51:34.713134Z"
    }
   },
   "id": "49f7b20aa7e9b0ff"
  },
  {
   "cell_type": "markdown",
   "source": [
    "#### Bài tập 3.23\n",
    "Tỷ lệ một loại bệnh bẩm sinh trong dân số là p = 0.01. Bệnh này cần\n",
    "sự chăm sóc đặc biệt lúc mới sinh. Một nhà bảo sinh thường có 20 ca sinh trong một\n",
    "tuần. Tính xác suất để\n",
    "a. không có trường hợp nào cần chăm sóc đặc biệt;\n",
    "b. có đúng một trường hợp cần chăm sóc đặc biệt;\n",
    "c. có nhiều hơn một trường hợp cần chăm sóc đặc biệt."
   ],
   "metadata": {
    "collapsed": false
   },
   "id": "583d7898798d7606"
  },
  {
   "cell_type": "code",
   "execution_count": 29,
   "outputs": [
    {
     "name": "stdout",
     "output_type": "stream",
     "text": [
      "a. 0.817906937597231\n",
      "b. 0.16523372476711742\n",
      "c. 0.016859337635651728\n"
     ]
    }
   ],
   "source": [
    "n, p = 20, 0.01\n",
    "print(f'a. {stats.binom.pmf(0, n, p)}')\n",
    "print(f'b. {stats.binom.pmf(1, n, p)}')\n",
    "print(f'c. {1 - stats.binom.cdf(1, n, p)}')"
   ],
   "metadata": {
    "collapsed": false,
    "ExecuteTime": {
     "end_time": "2023-11-02T15:51:35.330886Z",
     "start_time": "2023-11-02T15:51:34.717341Z"
    }
   },
   "id": "ed5d274f9b0ae346"
  },
  {
   "cell_type": "markdown",
   "source": [
    "#### Bài tập 3.24 \n",
    "Một đèn giao thông trên tuyến đường một người đi làm vào buổi sáng\n",
    "có màu xanh chiếm 20% số lần người ta tới ngã tư đó. Giả sử mỗi buổi sáng đi làm để\n",
    "thu thập số liệu là độc lập\n",
    "a. Với 5 buổi sáng đi làm, hãy tính xác suất gặp đèn xanh đúng 1 ngày.\n",
    "b. Với 20 buổi sáng đi làm, hãy tính xác suất gặp đèn xanh đúng 4 ngày.\n",
    "c. Với 20 buổi sáng đi làm, hãy tính xác suất gặp đèn xanh nhiều hơn 4 ngày."
   ],
   "metadata": {
    "collapsed": false
   },
   "id": "c6f455d281e5f6f5"
  },
  {
   "cell_type": "code",
   "execution_count": 30,
   "outputs": [
    {
     "name": "stdout",
     "output_type": "stream",
     "text": [
      "a. 0.4095999999999999\n",
      "b. 0.21819940194610057\n",
      "c. 0.3703517360973313\n"
     ]
    }
   ],
   "source": [
    "print(f'a. {stats.binom.pmf(1, 5, 0.2)}')\n",
    "print(f'b. {stats.binom.pmf(4, 20, 0.2)}')\n",
    "print(f'c. {1 - stats.binom.cdf(4, 20, 0.2)}')"
   ],
   "metadata": {
    "collapsed": false,
    "ExecuteTime": {
     "end_time": "2023-11-02T15:51:35.332630Z",
     "start_time": "2023-11-02T15:51:34.721050Z"
    }
   },
   "id": "900fcff6cd90c5b7"
  },
  {
   "cell_type": "markdown",
   "source": [
    "#### Bài tập 3.25 \n",
    "Các đường dây (lines) điện thoại đến hệ thống đặt vé máy bay bận chiếm\n",
    "40% số lần gọi. Giả sử rằng việc các đường dây bận khi cuộc gọi đến là độc lập. Giả\n",
    "sử rằng 10 cuộc gọi được đặt cho hãng hàng không.\n",
    "a. Xác suất để có đúng 3 cuộc gọi tới bị bận đường dây.\n",
    "b. Xác suất để có ít nhất 1 cuộc gọi tới không bị bận.\n",
    "c. Tính trung bình số cuộc gọi tới bị bận bằng hai cách."
   ],
   "metadata": {
    "collapsed": false
   },
   "id": "d5a3b183bc48eae9"
  },
  {
   "cell_type": "code",
   "execution_count": 31,
   "outputs": [
    {
     "name": "stdout",
     "output_type": "stream",
     "text": [
      "a. 0.21499084799999982\n",
      "b. 0.9983222784\n",
      "c. C1: 4.0, C2: 4.0\n"
     ]
    }
   ],
   "source": [
    "n, p = 10, 0.4\n",
    "print(f'a. {stats.binom.pmf(3, n, p)}')\n",
    "print(f'b. {1 - stats.binom.cdf(1, n, 1 - p)}')\n",
    "print(f'c. C1: {n * p}, C2: {stats.binom.stats(n, p, moments=\"m\")}')"
   ],
   "metadata": {
    "collapsed": false,
    "ExecuteTime": {
     "end_time": "2023-11-02T15:51:35.337544Z",
     "start_time": "2023-11-02T15:51:34.729577Z"
    }
   },
   "id": "188620b85c02e5ec"
  },
  {
   "cell_type": "markdown",
   "source": [
    "#### Bài tập 3.26 \n",
    "Bài kiểm tra trắc nghiệm chứa 25 câu hỏi, mỗi câu hỏi có bốn câu trả\n",
    "lời. Giả sử một học sinh chỉ đoán ngẫu nhiên để câu hỏi\n",
    "a. Xác suất để học sinh đó có nhiều hơn 20 câu trả lời đúng.\n",
    "b. Xác suất để học sinh đó có ít hơn 5 câu trả lời đúng."
   ],
   "metadata": {
    "collapsed": false
   },
   "id": "d927318240a44700"
  },
  {
   "cell_type": "code",
   "execution_count": 32,
   "outputs": [
    {
     "name": "stdout",
     "output_type": "stream",
     "text": [
      "a. 9.676934809021986e-10\n",
      "b. 0.37827851163760684\n"
     ]
    }
   ],
   "source": [
    "n, p = 25, 1/4\n",
    "print(f'a. {1 - stats.binom.cdf(20, n, p)}')\n",
    "print(f'b. {stats.binom.cdf(5, n, p)}')"
   ],
   "metadata": {
    "collapsed": false,
    "ExecuteTime": {
     "end_time": "2023-11-02T15:51:35.337683Z",
     "start_time": "2023-11-02T15:51:34.733338Z"
    }
   },
   "id": "cb050552cab3807b"
  },
  {
   "cell_type": "markdown",
   "source": [
    "#### Bài tập 3.27 \n",
    "Một bài thi trắc nghiệm gồm 12 câu hỏi, mỗi câu có 5 câu trả lời, trong\n",
    "đó chỉ có một câu đúng. Giả sử mỗi câu trả lời đúng, thí sinh được 4 điểm, mỗi câu trả\n",
    "lời sai, thí sinh bị trừ 1 điểm. Một thí sinh làm bài bằng cách chọn ngẫu nhiên các câu\n",
    "trả lời. Tìm xác suất để\n",
    "a. thí sinh được 13 điểm \n",
    "b. thí sinh bị điểm âm"
   ],
   "metadata": {
    "collapsed": false
   },
   "id": "485715da5c331fd4"
  },
  {
   "cell_type": "code",
   "execution_count": 33,
   "outputs": [
    {
     "name": "stdout",
     "output_type": "stream",
     "text": [
      "a. 0.05315022028800006\n",
      "b. 0.5583457484799997\n"
     ]
    }
   ],
   "source": [
    "n, p = 12, 1/5\n",
    "print(f'a. {stats.binom.pmf(5, n, p)}')\n",
    "print(f'b. {stats.binom.cdf(2, n, p)}')"
   ],
   "metadata": {
    "collapsed": false,
    "ExecuteTime": {
     "end_time": "2023-11-02T15:51:35.337787Z",
     "start_time": "2023-11-02T15:51:34.737330Z"
    }
   },
   "id": "49b46e8fde8bba0"
  },
  {
   "cell_type": "markdown",
   "source": [
    "#### Bài tập 3.28 \n",
    "Một người bắn bia với xác suất bắn trúng là p = 0.7\n",
    "a. Bắn liên tiếp 3 phát. Tính xác suất có ít nhất 1 lần trúng bia.\n",
    "b. Hỏi phải bắn ít nhất mấy lần để có xác suất ít nhất một lần trúng bia ≥ 0.9."
   ],
   "metadata": {
    "collapsed": false
   },
   "id": "fecacc37fee59006"
  },
  {
   "cell_type": "code",
   "execution_count": 34,
   "outputs": [
    {
     "name": "stdout",
     "output_type": "stream",
     "text": [
      "a. 0.973\n",
      "b. 3.0\n"
     ]
    }
   ],
   "source": [
    "print(f'a. {1 - stats.binom.pmf(0, 3, 0.7)}')\n",
    "print(f'b. {stats.binom.ppf(0.9, 3, 0.7)}')"
   ],
   "metadata": {
    "collapsed": false,
    "ExecuteTime": {
     "end_time": "2023-11-02T15:51:35.337891Z",
     "start_time": "2023-11-02T15:51:34.741040Z"
    }
   },
   "id": "b724e6d75fcf80ec"
  },
  {
   "cell_type": "markdown",
   "source": [
    "#### Bài tập 3.31 \n",
    "Giả sử biến ngẫu nhiên X có phân phối siêu bội với N = 10, n = 3 và\n",
    "K = 4. Vẽ hàm phân phối xác suất và phân phối tích lũy của X."
   ],
   "metadata": {
    "collapsed": false
   },
   "id": "b6ee1dfcd6e332eb"
  },
  {
   "cell_type": "code",
   "execution_count": 35,
   "outputs": [
    {
     "data": {
      "text/plain": "<Figure size 1200x500 with 2 Axes>",
      "image/png": "[encoded data removed]"
     },
     "metadata": {},
     "output_type": "display_data"
    }
   ],
   "source": [
    "N, K, n = 10, 4, 3\n",
    "_, ax = plt.subplots(1, 2, figsize=(12, 5))\n",
    "x = np.arange(0, K + 1)\n",
    "ax[0].plot(x, stats.hypergeom.pmf(x, N, K, n), 'bo')\n",
    "ax[0].vlines(x, 0, stats.hypergeom.pmf(x, N, K, n), lw=2)\n",
    "sns.kdeplot(stats.hypergeom.cdf(x, N, K, n), ax=ax[1])\n",
    "plt.show()"
   ],
   "metadata": {
    "collapsed": false,
    "ExecuteTime": {
     "end_time": "2023-11-02T15:51:35.357669Z",
     "start_time": "2023-11-02T15:51:34.745579Z"
    }
   },
   "id": "5dc71fe08749cd58"
  },
  {
   "cell_type": "markdown",
   "source": [
    "## Chương 4: Biến ngẫu nhiên liên tục"
   ],
   "metadata": {
    "collapsed": false
   },
   "id": "7d98696697abe766"
  },
  {
   "cell_type": "markdown",
   "source": [
    "#### Bài tập 4.28 \n",
    "Trọng lượng X (tính bằng gam) một loại trái cây có phân phối chuẩn với\n",
    "trung bình 500 gam và phương sai 16 gam2\n",
    ". Trái cây thu hoạch được phân loại theo\n",
    "trọng lượng như sau:\n",
    ". Loại 1: trên 505 gam \n",
    ". Loại 2: từ 495 − 505 gam\n",
    ". Loại 3: dưới 495 gam\n",
    "Tính tỷ lệ mỗi loại."
   ],
   "metadata": {
    "collapsed": false
   },
   "id": "a3956f3c280591bc"
  },
  {
   "cell_type": "code",
   "execution_count": 36,
   "outputs": [
    {
     "name": "stdout",
     "output_type": "stream",
     "text": [
      "0.10564977366685535\n",
      "0.7887004526662893\n",
      "0.10564977366685535\n"
     ]
    }
   ],
   "source": [
    "mean, std = 500, 16 ** (1/2)\n",
    "print(1 - stats.norm.cdf(505, mean, std))\n",
    "print(stats.norm.cdf(505, mean, std) - stats.norm.cdf(495, mean, std))\n",
    "print(stats.norm.cdf(495, mean, std))"
   ],
   "metadata": {
    "collapsed": false,
    "ExecuteTime": {
     "end_time": "2023-11-02T15:51:35.358010Z",
     "start_time": "2023-11-02T15:51:35.150435Z"
    }
   },
   "id": "8a28aab007dcb675"
  },
  {
   "cell_type": "markdown",
   "source": [
    "#### Bài tập 4.29 \n",
    "Cường độ nén của các mẫu xi măng có thể được mô hình hóa bởi một\n",
    "phân bố chuẩn với giá trị trung bình 6000 kg/cm2 và độ lệch chuẩn là 100 kg/cm2.\n",
    "a. Xác suất để cường độ nén của mẫu nhỏ hơn 6250 kg/cm2.\n",
    "b. Xác suất để cường độ nén của mẫu trong khoảng 5800 − 5900 kg/cm2.\n",
    "c. Độ nén là bao nhiêu để có thể chiếm ít nhất 95% mẫu."
   ],
   "metadata": {
    "collapsed": false
   },
   "id": "c2ed57628963c025"
  },
  {
   "cell_type": "code",
   "execution_count": 37,
   "outputs": [
    {
     "name": "stdout",
     "output_type": "stream",
     "text": [
      "a. 0.9937903346742238\n",
      "b. 0.13590512198327787\n",
      "c. 6164.485362695147\n"
     ]
    }
   ],
   "source": [
    "mean, std = 6000, 100\n",
    "print(f'a. {stats.norm.cdf(6250, mean, std)}')\n",
    "print(f'b. {stats.norm.cdf(5900, mean, std) - stats.norm.cdf(5800, mean, std)}')\n",
    "print(f'c. {stats.norm.ppf(0.95, mean, std)}')"
   ],
   "metadata": {
    "collapsed": false,
    "ExecuteTime": {
     "end_time": "2023-11-02T15:51:35.358143Z",
     "start_time": "2023-11-02T15:51:35.155430Z"
    }
   },
   "id": "4dd23070e04c271a"
  },
  {
   "cell_type": "markdown",
   "source": [
    "#### Bài tập 4.30\n",
    "Thời gian cho đến khi cần sạc lại pin cho một máy tính xách tay trong\n",
    "điều kiện bình thường là phân phối chuẩn với trung bình 260 phút và độ lệch chuẩn là\n",
    "50 phút.\n",
    "a. Xác suất pin sử dụng kéo dài hơn bốn giờ là bao nhiêu?\n",
    "b. Xác định thời gian sử dụng pin tại những giá trị phân vị, là giá trị của z sao cho\n",
    "xác suất P(Z < z) đạt 25% và 75%?\n",
    "c. Xác định thời gian sử dụng pin tương ứng với xác suất ít nhất 0.95."
   ],
   "metadata": {
    "collapsed": false
   },
   "id": "b8bff9bcb44fc8ac"
  },
  {
   "cell_type": "code",
   "execution_count": 38,
   "outputs": [
    {
     "name": "stdout",
     "output_type": "stream",
     "text": [
      "a. 0.6554217416103242\n",
      "b. 226.27551249019592, 293.7244875098041\n",
      "c. 342.2426813475736\n"
     ]
    }
   ],
   "source": [
    "mean, std = 260, 50\n",
    "print(f'a. {1 - stats.norm.cdf(4 * 60, mean, std)}')\n",
    "print(f'b. {stats.norm.ppf(0.25, mean, std)}, {stats.norm.ppf(0.75, mean, std)}')\n",
    "print(f'c. {stats.norm.ppf(0.95, mean, std)}')"
   ],
   "metadata": {
    "collapsed": false,
    "ExecuteTime": {
     "end_time": "2023-11-02T15:51:35.358395Z",
     "start_time": "2023-11-02T15:51:35.159348Z"
    }
   },
   "id": "55c68325628ea014"
  },
  {
   "cell_type": "markdown",
   "source": [
    "#### Bài tập 4.39 \n",
    "Một sản phẩm điện tử văn phòng chứa 5000 linh kiện điện tử. Giả sử\n",
    "rằng xác suất mà mỗi thành phần hoạt động mà không có hư hỏng trong thời gian sử\n",
    "dụng hữu ích của sản phẩm là 0.999 và giả định rằng các thành phần hoạt động một\n",
    "cách độc lập. Xấp xỉ xác suất có nhiều hơn hoặc bằng 10 trong số 5000 thành phần\n",
    "ban đầu bị hư hỏng thời gian sử dụng hữu ích của sản phẩm."
   ],
   "metadata": {
    "collapsed": false
   },
   "id": "e90c50d2e3cb1ba2"
  },
  {
   "cell_type": "code",
   "execution_count": 39,
   "outputs": [
    {
     "data": {
      "text/plain": "0.006929342497910329"
     },
     "execution_count": 39,
     "metadata": {},
     "output_type": "execute_result"
    }
   ],
   "source": [
    "n, p = 5000, 0.001\n",
    "x = (10 + 0.5 - n * p) / (math.sqrt(n * p * (1 - p)))\n",
    "1 - stats.norm.cdf(x)"
   ],
   "metadata": {
    "collapsed": false,
    "ExecuteTime": {
     "end_time": "2023-11-02T15:51:35.358574Z",
     "start_time": "2023-11-02T15:51:35.165393Z"
    }
   },
   "id": "5e1e853daeba542f"
  }
 ],
 "metadata": {
  "kernelspec": {
   "display_name": "Python 3",
   "language": "python",
   "name": "python3"
  },
  "language_info": {
   "codemirror_mode": {
    "name": "ipython",
    "version": 2
   },
   "file_extension": ".py",
   "mimetype": "text/x-python",
   "name": "python",
   "nbconvert_exporter": "python",
   "pygments_lexer": "ipython2",
   "version": "2.7.6"
  }
 },
 "nbformat": 4,
 "nbformat_minor": 5
}
